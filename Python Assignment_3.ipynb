{
 "cells": [
  {
   "cell_type": "code",
   "execution_count": 1,
   "metadata": {},
   "outputs": [],
   "source": [
    "import numpy as np"
   ]
  },
  {
   "cell_type": "code",
   "execution_count": 5,
   "metadata": {},
   "outputs": [
    {
     "name": "stdout",
     "output_type": "stream",
     "text": [
      "Enter the number2\n",
      "The reminder is  [1 0 1 0]\n"
     ]
    }
   ],
   "source": [
    "# 1. Python Program for Find reminder of array multiplication divided by n\n",
    "\n",
    "array1 = np.array([1,2,3,4])\n",
    "\n",
    "array2= np.array([3,4,7,8])\n",
    "\n",
    "n = int(input('Enter the number'))\n",
    "\n",
    "r= array1*array2 % n\n",
    "\n",
    "print('The reminder is ', r)"
   ]
  },
  {
   "cell_type": "code",
   "execution_count": 44,
   "metadata": {},
   "outputs": [
    {
     "name": "stdout",
     "output_type": "stream",
     "text": [
      "The array is not monotonic\n"
     ]
    }
   ],
   "source": [
    "# 2.Python Program to check if given array is Monotonic\n",
    "\n",
    "\n",
    "np.random.seed(10)\n",
    "\n",
    "import numpy as np\n",
    "\n",
    "\n",
    "array1 = np.array(np.random.randint(1,51, (1,50)))\n",
    "\n",
    "array1\n",
    "\n",
    "i = 0\n",
    "\n",
    "while i < array1.size-1 :\n",
    "    \n",
    "    if array1[0][i] <= array1[0][i+1]:\n",
    "        i = i+1\n",
    "        continue\n",
    "    else:\n",
    "        print('The array is not monotonic')\n",
    "        break\n",
    "        \n",
    "else:\n",
    "    print('The array is monotonic')\n",
    "         \n",
    "    "
   ]
  },
  {
   "cell_type": "code",
   "execution_count": 19,
   "metadata": {},
   "outputs": [
    {
     "name": "stdout",
     "output_type": "stream",
     "text": [
      "Enter the upper bound of the list 10\n"
     ]
    },
    {
     "data": {
      "text/plain": [
       "[9, 1, 2, 3, 4, 5, 6, 7, 8, 0]"
      ]
     },
     "execution_count": 19,
     "metadata": {},
     "output_type": "execute_result"
    }
   ],
   "source": [
    "# 3. Python program to interchange first and last elements in a list\n",
    "\n",
    "a= int(input('Enter the upper bound of the list '))\n",
    "\n",
    "b = list(range(a))\n",
    "\n",
    "b[0], b[len(b)-1] = b[len(b)-1], b[0]\n",
    "\n",
    "b\n",
    "\n",
    "\n"
   ]
  },
  {
   "cell_type": "code",
   "execution_count": 20,
   "metadata": {},
   "outputs": [
    {
     "name": "stdout",
     "output_type": "stream",
     "text": [
      "Enter the lower bound of list10\n",
      "Enter the upper bound of list30\n",
      "Enter the first index number of to be swapped4\n",
      "Enter the second index number of to be swapped11\n"
     ]
    },
    {
     "data": {
      "text/plain": [
       "[10,\n",
       " 11,\n",
       " 12,\n",
       " 13,\n",
       " 21,\n",
       " 15,\n",
       " 16,\n",
       " 17,\n",
       " 18,\n",
       " 19,\n",
       " 20,\n",
       " 14,\n",
       " 22,\n",
       " 23,\n",
       " 24,\n",
       " 25,\n",
       " 26,\n",
       " 27,\n",
       " 28,\n",
       " 29]"
      ]
     },
     "execution_count": 20,
     "metadata": {},
     "output_type": "execute_result"
    }
   ],
   "source": [
    "# 4.Python program to swap two elements in a list\n",
    "\n",
    "a=  int(input('Enter the lower bound of list'))\n",
    "b = int(input('Enter the upper bound of list'))\n",
    "\n",
    "c= list(range(a,b))\n",
    "\n",
    "d = int(input('Enter the first index number of to be swapped'))\n",
    "e = int(input('Enter the second index number of to be swapped'))\n",
    "\n",
    "c[d], c[e] = c[e], c[d]\n",
    "\n",
    "c"
   ]
  },
  {
   "cell_type": "code",
   "execution_count": 21,
   "metadata": {},
   "outputs": [
    {
     "name": "stdout",
     "output_type": "stream",
     "text": [
      "Enter the lower bound of range4\n",
      "Enter the upper bound of range27\n",
      "The length of the list is 23\n"
     ]
    }
   ],
   "source": [
    "# 5.write a program to find length of list\n",
    "\n",
    "a= int(input('Enter the lower bound of range'))\n",
    "\n",
    "b= int(input('Enter the upper bound of range'))\n",
    "\n",
    "c= list(range(a,b))\n",
    "\n",
    "print('The length of the list is', len(c))"
   ]
  },
  {
   "cell_type": "code",
   "execution_count": 33,
   "metadata": {},
   "outputs": [
    {
     "name": "stdout",
     "output_type": "stream",
     "text": [
      "Enter the number you want to check in list10\n",
      "Yes the number exist in list\n"
     ]
    }
   ],
   "source": [
    "# 6.write a program to check if element exists in list\n",
    "\n",
    "np.random.seed(10)\n",
    "\n",
    "a= list(np.array(np.random.randint(1,100, 20)))\n",
    "\n",
    "a\n",
    "\n",
    "b = int(input('Enter the number you want to check in list'))\n",
    "\n",
    "if b in a:\n",
    "    print('Yes the number exist in list')\n",
    "    \n",
    "else:\n",
    "    print('The number does not exist in list')"
   ]
  },
  {
   "cell_type": "code",
   "execution_count": 38,
   "metadata": {},
   "outputs": [
    {
     "data": {
      "text/plain": [
       "[]"
      ]
     },
     "execution_count": 38,
     "metadata": {},
     "output_type": "execute_result"
    }
   ],
   "source": [
    "# 7. write a program to clear a list in Python\n",
    "\n",
    "a = list(range(10))\n",
    "\n",
    "a.clear()\n",
    "\n",
    "a"
   ]
  },
  {
   "cell_type": "code",
   "execution_count": 39,
   "metadata": {},
   "outputs": [
    {
     "name": "stdout",
     "output_type": "stream",
     "text": [
      "Enter the lower bound of range10\n",
      "Enter the upper bound of range20\n"
     ]
    },
    {
     "data": {
      "text/plain": [
       "[19, 18, 17, 16, 15, 14, 13, 12, 11, 10]"
      ]
     },
     "execution_count": 39,
     "metadata": {},
     "output_type": "execute_result"
    }
   ],
   "source": [
    "# 8.write a program to Reversing a List\n",
    "\n",
    "a= int(input('Enter the lower bound of range'))\n",
    "\n",
    "b= int(input('Enter the upper bound of range'))\n",
    "\n",
    "c= list(range(a,b))\n",
    "\n",
    "c[: : -1]"
   ]
  },
  {
   "cell_type": "code",
   "execution_count": 41,
   "metadata": {},
   "outputs": [
    {
     "name": "stdout",
     "output_type": "stream",
     "text": [
      "Enter the lower bound of range1\n",
      "Enter the upper bound of range5\n",
      "The sum of elements in the list is  10\n"
     ]
    }
   ],
   "source": [
    "# 9.write a program to find sum of elements in list\n",
    "\n",
    "a= int(input('Enter the lower bound of range'))\n",
    "\n",
    "b= int(input('Enter the upper bound of range'))\n",
    "\n",
    "c= list(range(a,b))\n",
    "\n",
    "d= 0\n",
    "\n",
    "for i in range(len(c)):\n",
    "    \n",
    "    d= d+ c[i]\n",
    "    \n",
    "print('The sum of elements in the list is ', d)\n",
    "    \n",
    "    "
   ]
  },
  {
   "cell_type": "code",
   "execution_count": 42,
   "metadata": {},
   "outputs": [
    {
     "name": "stdout",
     "output_type": "stream",
     "text": [
      "Enter the lower bound of range1\n",
      "Enter the upper bound of range5\n",
      "The multiplication of elements in the list is  24\n"
     ]
    }
   ],
   "source": [
    "# 10.write a program to Multiply all numbers in the list\n",
    "\n",
    "a= int(input('Enter the lower bound of range'))\n",
    "\n",
    "b= int(input('Enter the upper bound of range'))\n",
    "\n",
    "c= list(range(a,b))\n",
    "\n",
    "d= 1\n",
    "\n",
    "for i in range(len(c)):\n",
    "    \n",
    "    d= d * c[i]\n",
    "    \n",
    "print('The multiplication of elements in the list is ', d)"
   ]
  },
  {
   "cell_type": "code",
   "execution_count": null,
   "metadata": {},
   "outputs": [],
   "source": []
  }
 ],
 "metadata": {
  "kernelspec": {
   "display_name": "Python 3",
   "language": "python",
   "name": "python3"
  },
  "language_info": {
   "codemirror_mode": {
    "name": "ipython",
    "version": 3
   },
   "file_extension": ".py",
   "mimetype": "text/x-python",
   "name": "python",
   "nbconvert_exporter": "python",
   "pygments_lexer": "ipython3",
   "version": "3.8.5"
  }
 },
 "nbformat": 4,
 "nbformat_minor": 4
}
