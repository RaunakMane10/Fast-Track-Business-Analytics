{
 "cells": [
  {
   "cell_type": "code",
   "execution_count": 4,
   "metadata": {},
   "outputs": [
    {
     "data": {
      "text/plain": [
       "[1505,\n",
       " 1540,\n",
       " 1575,\n",
       " 1610,\n",
       " 1645,\n",
       " 1680,\n",
       " 1715,\n",
       " 1750,\n",
       " 1785,\n",
       " 1820,\n",
       " 1855,\n",
       " 1890,\n",
       " 1925,\n",
       " 1960,\n",
       " 1995,\n",
       " 2030,\n",
       " 2065,\n",
       " 2100,\n",
       " 2135,\n",
       " 2170,\n",
       " 2205,\n",
       " 2240,\n",
       " 2275,\n",
       " 2310,\n",
       " 2345,\n",
       " 2380,\n",
       " 2415,\n",
       " 2450,\n",
       " 2485,\n",
       " 2520,\n",
       " 2555,\n",
       " 2590,\n",
       " 2625,\n",
       " 2660,\n",
       " 2695]"
      ]
     },
     "execution_count": 4,
     "metadata": {},
     "output_type": "execute_result"
    }
   ],
   "source": [
    "'''1.Write a Python program to find those numbers which are divisible by 7 and multiple of 5, \n",
    "between 1500 and 2700 (both included).\n",
    "'''\n",
    "\n",
    "numbers= []\n",
    "\n",
    "for i in range (1500, 2701):\n",
    "    \n",
    "    if i % 7== 0 and i % 5 ==0:\n",
    "        numbers.append(i)\n",
    "numbers"
   ]
  },
  {
   "cell_type": "code",
   "execution_count": 5,
   "metadata": {},
   "outputs": [
    {
     "name": "stdout",
     "output_type": "stream",
     "text": [
      "enter first number10\n",
      "enter second number70\n",
      "The addition of two number is 80\n"
     ]
    }
   ],
   "source": [
    "# 2. Python program to add two numbers\n",
    "\n",
    "a = int(input('enter first number'))\n",
    "\n",
    "b= int(input('enter second number'))\n",
    "\n",
    "print ('The addition of two number is' , a+b)"
   ]
  },
  {
   "cell_type": "code",
   "execution_count": 6,
   "metadata": {},
   "outputs": [
    {
     "name": "stdout",
     "output_type": "stream",
     "text": [
      "enter first number20\n",
      "enter second number34\n",
      "The maximum of two number is 34\n"
     ]
    }
   ],
   "source": [
    "# 3. Maximum of two numbers in Python\n",
    "\n",
    "a = int(input('enter first number'))\n",
    "b= int(input('enter second number'))\n",
    "\n",
    "print('The maximum of two number is' , max(a,b))"
   ]
  },
  {
   "cell_type": "code",
   "execution_count": 7,
   "metadata": {},
   "outputs": [
    {
     "name": "stdout",
     "output_type": "stream",
     "text": [
      "enter your number5\n",
      "The factorial of the number is 120\n"
     ]
    }
   ],
   "source": [
    "# 4. Python Program for factorial of a number\n",
    "\n",
    "a = int(input('enter your number'))\n",
    "b= 1\n",
    "\n",
    "for i in range(1,a+1):\n",
    "    b = b*i\n",
    "    \n",
    "print('The factorial of the number is', b)"
   ]
  },
  {
   "cell_type": "code",
   "execution_count": 8,
   "metadata": {},
   "outputs": [
    {
     "name": "stdout",
     "output_type": "stream",
     "text": [
      "Enter the principle amount in Rs10000\n",
      "Enter the rate of interest in % in per annum5\n",
      "Enter the time period in years2\n",
      "Simple interest is Rs 1000.0\n"
     ]
    }
   ],
   "source": [
    "# 5. Python Program for simple interest\n",
    "\n",
    "p = int(input('Enter the principle amount in Rs'))\n",
    "\n",
    "r= int(input('Enter the rate of interest in % in per annum'))\n",
    "\n",
    "n= int(input('Enter the time period in years'))\n",
    "\n",
    "print('Simple interest is Rs', p*r*n/100)"
   ]
  },
  {
   "cell_type": "code",
   "execution_count": 10,
   "metadata": {},
   "outputs": [
    {
     "name": "stdout",
     "output_type": "stream",
     "text": [
      "Enter the principle amount in Rs10000\n",
      "Enter the rate of interest in % in per annum5\n",
      "Enter the time period in years5\n",
      "The compount interest is Rs 2762.8156250000034\n"
     ]
    }
   ],
   "source": [
    "# 6. Python Program for compound interest\n",
    "\n",
    "p = int(input('Enter the principle amount in Rs'))\n",
    "\n",
    "r= int(input('Enter the rate of interest in % in per annum'))\n",
    "\n",
    "n= int(input('Enter the time period in years'))\n",
    "\n",
    "compount_interest =  p* ((1+r/100)**n-1)\n",
    "\n",
    "print('The compount interest is Rs', compount_interest)"
   ]
  },
  {
   "cell_type": "code",
   "execution_count": 16,
   "metadata": {},
   "outputs": [
    {
     "name": "stdout",
     "output_type": "stream",
     "text": [
      "Enter the number of digits3\n",
      "Enter ther number153\n",
      "153\n",
      "Entered number is an Armstrong number\n"
     ]
    }
   ],
   "source": [
    "# 7.Python Program to check Armstrong Number\n",
    "\n",
    "a= int(input('Enter the number of digits'))\n",
    "\n",
    "b = input('Enter ther number')   # I have purposely not typecasted string into int because I want to iterate through string only\n",
    "\n",
    "c=0\n",
    "\n",
    "for i in range(len(b)):\n",
    "     c = c + int(b[i])**a\n",
    "  \n",
    "\n",
    "print(c)\n",
    "\n",
    "if c == int(b):\n",
    "    print('Entered number is an Armstrong number')\n"
   ]
  },
  {
   "cell_type": "code",
   "execution_count": 17,
   "metadata": {},
   "outputs": [
    {
     "name": "stdout",
     "output_type": "stream",
     "text": [
      "Enter the radius of circle10\n",
      "The area of circle is  314.1592653589793\n"
     ]
    }
   ],
   "source": [
    "# 8. Python Program for Program to find area of a circle\n",
    "\n",
    "from math import pi\n",
    "\n",
    "r = int(input('Enter the radius of circle'))\n",
    "\n",
    "area= pi*(r**2)\n",
    "\n",
    "print('The area of circle is ', area)"
   ]
  },
  {
   "cell_type": "code",
   "execution_count": 24,
   "metadata": {},
   "outputs": [
    {
     "name": "stdout",
     "output_type": "stream",
     "text": [
      "Enter the lower bound of interval1\n",
      "Enter the upper bound of interval100\n"
     ]
    },
    {
     "data": {
      "text/plain": [
       "[2,\n",
       " 3,\n",
       " 5,\n",
       " 7,\n",
       " 11,\n",
       " 13,\n",
       " 17,\n",
       " 19,\n",
       " 23,\n",
       " 29,\n",
       " 31,\n",
       " 37,\n",
       " 41,\n",
       " 43,\n",
       " 47,\n",
       " 53,\n",
       " 59,\n",
       " 61,\n",
       " 67,\n",
       " 71,\n",
       " 73,\n",
       " 79,\n",
       " 83,\n",
       " 89,\n",
       " 97]"
      ]
     },
     "execution_count": 24,
     "metadata": {},
     "output_type": "execute_result"
    }
   ],
   "source": [
    "# 9.Python program to print all Prime numbers in an Interval\n",
    "\n",
    "a= int(input('Enter the lower bound of interval'))\n",
    "\n",
    "b= int(input('Enter the upper bound of interval'))\n",
    "\n",
    "prime_numbers = []\n",
    "\n",
    "for i in range(a+1,b):    # Excluding both upper and lower bound\n",
    "    for x in range(2,i):\n",
    "        \n",
    "        if i % x ==0:\n",
    "            break\n",
    "            \n",
    "    else:\n",
    "        prime_numbers.append(i)\n",
    "\n",
    "prime_numbers\n",
    "    \n",
    "\n",
    "    \n",
    "    "
   ]
  },
  {
   "cell_type": "code",
   "execution_count": 25,
   "metadata": {},
   "outputs": [
    {
     "name": "stdout",
     "output_type": "stream",
     "text": [
      "Enter the number29\n",
      "The entered number is prime number\n"
     ]
    }
   ],
   "source": [
    "# 10. Python program to check whether a number is Prime or not\n",
    "\n",
    "a= int(input('Enter the number'))\n",
    "\n",
    "for i in range(2,a):\n",
    "    \n",
    "    if a % i ==0:\n",
    "        print('Entered number is not prime number')\n",
    "        \n",
    "else:\n",
    "    print('The entered number is prime number')"
   ]
  },
  {
   "cell_type": "code",
   "execution_count": null,
   "metadata": {},
   "outputs": [],
   "source": []
  }
 ],
 "metadata": {
  "kernelspec": {
   "display_name": "Python 3",
   "language": "python",
   "name": "python3"
  },
  "language_info": {
   "codemirror_mode": {
    "name": "ipython",
    "version": 3
   },
   "file_extension": ".py",
   "mimetype": "text/x-python",
   "name": "python",
   "nbconvert_exporter": "python",
   "pygments_lexer": "ipython3",
   "version": "3.8.5"
  }
 },
 "nbformat": 4,
 "nbformat_minor": 4
}
