{
 "cells": [
  {
   "cell_type": "code",
   "execution_count": 16,
   "metadata": {},
   "outputs": [
    {
     "name": "stdout",
     "output_type": "stream",
     "text": [
      "[19, 25, 74, 38, 99, 39, 18, 83, 10, 50, 46, 26, 21, 64, 98, 72, 43, 82, 88, 59, 61, 64, 87, 79, 23]\n"
     ]
    },
    {
     "data": {
      "text/plain": [
       "10"
      ]
     },
     "execution_count": 16,
     "metadata": {},
     "output_type": "execute_result"
    }
   ],
   "source": [
    "# 1. Python program to find smallest number in a list\n",
    "\n",
    "import numpy as np\n",
    "\n",
    "np.random.seed(10)\n",
    "\n",
    "a = list(np.array(np.random.randint(10,100, 25)))\n",
    "\n",
    "print(a)\n",
    "\n",
    "a.sort()\n",
    "\n",
    "a[0]"
   ]
  },
  {
   "cell_type": "code",
   "execution_count": 3,
   "metadata": {},
   "outputs": [
    {
     "name": "stdout",
     "output_type": "stream",
     "text": [
      "[14, 72, 25, 71, 33, 54, 60, 18, 38, 14, 99, 41, 79, 11, 49, 13, 98, 65, 13, 94, 55, 13, 11, 32, 41]\n"
     ]
    },
    {
     "data": {
      "text/plain": [
       "99"
      ]
     },
     "execution_count": 3,
     "metadata": {},
     "output_type": "execute_result"
    }
   ],
   "source": [
    "# 2. Python program to find largest number in a list\n",
    "\n",
    "import numpy as np\n",
    "\n",
    "np.random.seed(25)\n",
    "\n",
    "a = list(np.array(np.random.randint(10,100, 25)))\n",
    "\n",
    "print(a)\n",
    "\n",
    "a.sort(reverse=True)\n",
    "\n",
    "a[0]"
   ]
  },
  {
   "cell_type": "code",
   "execution_count": 4,
   "metadata": {},
   "outputs": [
    {
     "name": "stdout",
     "output_type": "stream",
     "text": [
      "[61, 97, 81, 74, 11, 71, 10, 99, 55, 50, 46, 70, 52, 68, 51, 30, 40, 98, 40, 38, 40, 87, 92, 38, 95]\n"
     ]
    },
    {
     "data": {
      "text/plain": [
       "98"
      ]
     },
     "execution_count": 4,
     "metadata": {},
     "output_type": "execute_result"
    }
   ],
   "source": [
    "# 3.Python program to find second largest number in a list\n",
    "\n",
    "\n",
    "import numpy as np\n",
    "\n",
    "np.random.seed(1000)\n",
    "\n",
    "a = list(np.array(np.random.randint(10,100, 25)))\n",
    "\n",
    "print(a)\n",
    "\n",
    "a.sort(reverse=True)\n",
    "\n",
    "a[1]"
   ]
  },
  {
   "cell_type": "code",
   "execution_count": 17,
   "metadata": {},
   "outputs": [
    {
     "name": "stdout",
     "output_type": "stream",
     "text": [
      "[88, 71, 26, 83, 18, 72, 37, 40, 90, 17, 86, 25, 63, 90, 37, 54, 87, 85, 75, 57, 40, 94, 96, 28, 19]\n",
      "Enter the nth largex number index5\n",
      "the nth largests number is 87\n"
     ]
    }
   ],
   "source": [
    "# 4. Python program to find N largest elements from a list\n",
    "\n",
    "import numpy as np\n",
    "\n",
    "np.random.seed(5)\n",
    "\n",
    "a = list(np.array(np.random.randint(10,100, 25)))\n",
    "\n",
    "print(a)\n",
    "\n",
    "a.sort(reverse=True)\n",
    "\n",
    "x= int(input('Enter the nth largex number index'))\n",
    "\n",
    "print('the nth largests number is',a[x])\n"
   ]
  },
  {
   "cell_type": "code",
   "execution_count": 7,
   "metadata": {},
   "outputs": [
    {
     "name": "stdout",
     "output_type": "stream",
     "text": [
      "[91, 66, 18, 32, 73, 72, 78, 18, 146, 42, 35, 19, 148, 142, 103, 105, 57, 139, 47, 142, 110, 3, 60, 126, 110, 143, 61, 76, 92, 124, 99, 16, 144, 116, 98, 98, 97, 21, 5, 123, 61, 53, 54, 54, 39, 122, 73, 46, 76, 140]\n",
      "The list of even numbers is mentioned below\n",
      "\n",
      "[66, 18, 32, 72, 78, 18, 146, 42, 148, 142, 142, 110, 60, 126, 110, 76, 92, 124, 16, 144, 116, 98, 98, 54, 54, 122, 46, 76, 140]\n"
     ]
    }
   ],
   "source": [
    "# 5. Python program to print even numbers in a list\n",
    "\n",
    "import numpy as np\n",
    "\n",
    "np.random.seed(500)\n",
    "\n",
    "a = list(np.array(np.random.randint(1,150, 50)))\n",
    "\n",
    "print(a)\n",
    "\n",
    "b = []\n",
    "\n",
    "for i in range(len(a)):\n",
    "    \n",
    "    if a[i] % 2 == 0:\n",
    "        b.append(a[i])\n",
    "        \n",
    "print('The list of even numbers is mentioned below\\n')\n",
    "      \n",
    "print(b)\n",
    "        "
   ]
  },
  {
   "cell_type": "code",
   "execution_count": 8,
   "metadata": {},
   "outputs": [
    {
     "name": "stdout",
     "output_type": "stream",
     "text": [
      "[43, 20, 121, 70, 191, 178, 175, 243, 67, 9, 153, 227, 146, 134, 86, 112, 191, 235, 139, 245, 246, 76, 184, 165, 69, 108, 194, 196, 74, 134, 15, 71, 86, 125, 14, 137, 147, 65, 94, 138, 206, 139, 187, 206, 16, 60, 132, 179, 157, 132, 160, 22, 12, 107, 184, 99, 154, 30, 23, 90, 68, 53, 100, 192, 86, 106, 27, 36, 39, 244, 140, 138, 33, 181, 220, 115, 175, 173, 29, 163, 114, 14, 70, 54, 207, 84, 52, 105, 206, 80, 8, 188, 156, 79, 140, 180, 228, 145, 182, 108]\n",
      "The list of odd numbers is mentioned below\n",
      "\n",
      "[43, 121, 191, 175, 243, 67, 9, 153, 227, 191, 235, 139, 245, 165, 69, 15, 71, 125, 137, 147, 65, 139, 187, 179, 157, 107, 99, 23, 53, 27, 39, 33, 181, 115, 175, 173, 29, 163, 207, 105, 79, 145]\n"
     ]
    }
   ],
   "source": [
    "# 6.Python program to print odd numbers in a List\n",
    "\n",
    "import numpy as np\n",
    "\n",
    "np.random.seed(18)\n",
    "\n",
    "a = list(np.array(np.random.randint(1,250, 100)))\n",
    "\n",
    "print(a)\n",
    "\n",
    "b = []\n",
    "\n",
    "for i in range(len(a)):\n",
    "    \n",
    "    if a[i] % 2 != 0:\n",
    "        b.append(a[i])\n",
    "        \n",
    "print('The list of odd numbers is mentioned below\\n')\n",
    "      \n",
    "print(b)"
   ]
  },
  {
   "cell_type": "code",
   "execution_count": 19,
   "metadata": {},
   "outputs": [
    {
     "name": "stdout",
     "output_type": "stream",
     "text": [
      "Enter the lower bound of range10\n",
      "Enter the upper bound of range50\n",
      "The entered range is as mentioned below\n",
      "\n",
      "10\n",
      "11\n",
      "12\n",
      "13\n",
      "14\n",
      "15\n",
      "16\n",
      "17\n",
      "18\n",
      "19\n",
      "20\n",
      "21\n",
      "22\n",
      "23\n",
      "24\n",
      "25\n",
      "26\n",
      "27\n",
      "28\n",
      "29\n",
      "30\n",
      "31\n",
      "32\n",
      "33\n",
      "34\n",
      "35\n",
      "36\n",
      "37\n",
      "38\n",
      "39\n",
      "40\n",
      "41\n",
      "42\n",
      "43\n",
      "44\n",
      "45\n",
      "46\n",
      "47\n",
      "48\n",
      "49\n",
      "The list of even numbers from the range is mentioned below\n",
      "\n",
      "[10, 12, 14, 16, 18, 20, 22, 24, 26, 28, 30, 32, 34, 36, 38, 40, 42, 44, 46, 48]\n"
     ]
    }
   ],
   "source": [
    "# 7.Python program to print all even numbers in a range\n",
    "\n",
    "a= int(input('Enter the lower bound of range'))\n",
    "b= int(input('Enter the upper bound of range'))\n",
    "\n",
    "print('The entered range is as mentioned below\\n')\n",
    "\n",
    "for i in range(a,b):\n",
    "    print(i)\n",
    "\n",
    "d= []\n",
    "\n",
    "for i in range(a,b):\n",
    "    if i % 2 ==0:\n",
    "        d.append(i)\n",
    "        \n",
    "print('The list of even numbers from the range is mentioned below\\n')\n",
    "\n",
    "print(d)\n",
    "        \n"
   ]
  },
  {
   "cell_type": "code",
   "execution_count": 20,
   "metadata": {},
   "outputs": [
    {
     "name": "stdout",
     "output_type": "stream",
     "text": [
      "Enter the lower bound of range10\n",
      "Enter the upper bound of range20\n",
      "The entered range is as mentioned below\n",
      "\n",
      "10\n",
      "11\n",
      "12\n",
      "13\n",
      "14\n",
      "15\n",
      "16\n",
      "17\n",
      "18\n",
      "19\n",
      "The list of odd numbers from the range is mentioned below\n",
      "\n",
      "[11, 13, 15, 17, 19]\n"
     ]
    }
   ],
   "source": [
    "# 8. Python program to print all odd numbers in a range\n",
    "\n",
    "a= int(input('Enter the lower bound of range'))\n",
    "b= int(input('Enter the upper bound of range'))\n",
    "\n",
    "print('The entered range is as mentioned below\\n')\n",
    "\n",
    "for i in range(a,b):\n",
    "    print(i)\n",
    "\n",
    "d= []\n",
    "\n",
    "for i in range(a,b):\n",
    "    if i % 2 !=0:\n",
    "        d.append(i)\n",
    "        \n",
    "print('The list of odd numbers from the range is mentioned below\\n')\n",
    "\n",
    "print(d)"
   ]
  },
  {
   "cell_type": "code",
   "execution_count": 12,
   "metadata": {},
   "outputs": [
    {
     "name": "stdout",
     "output_type": "stream",
     "text": [
      "Enter the lower bound of range-15\n",
      "Enter the upper bound of range10\n",
      "[-15, -14, -13, -12, -11, -10, -9, -8, -7, -6, -5, -4, -3, -2, -1, 0, 1, 2, 3, 4, 5, 6, 7, 8, 9]\n",
      "The list of positive numbers is mentioned below\n",
      "\n",
      "[1, 2, 3, 4, 5, 6, 7, 8, 9]\n"
     ]
    }
   ],
   "source": [
    "# 9.Python program to print positive numbers in a list\n",
    "\n",
    "a= int(input('Enter the lower bound of range'))\n",
    "b= int(input('Enter the upper bound of range'))\n",
    "\n",
    "c = list(range(a,b))\n",
    "\n",
    "print(c)\n",
    "\n",
    "d= []\n",
    "\n",
    "for i in c:\n",
    "    \n",
    "    if i > 0:\n",
    "        d.append(i)\n",
    "        \n",
    "print('The list of positive numbers is mentioned below\\n')\n",
    "\n",
    "print(d)"
   ]
  },
  {
   "cell_type": "code",
   "execution_count": 13,
   "metadata": {},
   "outputs": [
    {
     "name": "stdout",
     "output_type": "stream",
     "text": [
      "Enter the lower bound of range-10\n",
      "Enter the upper bound of range5\n",
      "[-10, -9, -8, -7, -6, -5, -4, -3, -2, -1, 0, 1, 2, 3, 4]\n",
      "The list of negative numbers is mentioned below\n",
      "\n",
      "[-10, -9, -8, -7, -6, -5, -4, -3, -2, -1]\n"
     ]
    }
   ],
   "source": [
    "# 10. Python program to print negative numbers in a list\n",
    "\n",
    "a= int(input('Enter the lower bound of range'))\n",
    "b= int(input('Enter the upper bound of range'))\n",
    "\n",
    "c = list(range(a,b))\n",
    "\n",
    "print(c)\n",
    "\n",
    "d= []\n",
    "\n",
    "for i in c:\n",
    "    \n",
    "    if i < 0:\n",
    "        d.append(i)\n",
    "        \n",
    "print('The list of negative numbers is mentioned below\\n')\n",
    "\n",
    "print(d)"
   ]
  },
  {
   "cell_type": "code",
   "execution_count": 15,
   "metadata": {},
   "outputs": [
    {
     "name": "stdout",
     "output_type": "stream",
     "text": [
      "Enter the lower bound of range-10\n",
      "Enter the upper bound of range10\n",
      "Entered range is as mentioned below\n",
      "\n",
      "-10\n",
      "-9\n",
      "-8\n",
      "-7\n",
      "-6\n",
      "-5\n",
      "-4\n",
      "-3\n",
      "-2\n",
      "-1\n",
      "0\n",
      "1\n",
      "2\n",
      "3\n",
      "4\n",
      "5\n",
      "6\n",
      "7\n",
      "8\n",
      "9\n",
      "The list of positive numbers is mentioned below\n",
      "\n",
      "[1, 2, 3, 4, 5, 6, 7, 8, 9]\n"
     ]
    }
   ],
   "source": [
    "# 11. Python program to print all positive numbers in a range\n",
    "\n",
    "a= int(input('Enter the lower bound of range'))\n",
    "b= int(input('Enter the upper bound of range'))\n",
    "\n",
    "print('Entered range is as mentioned below\\n')\n",
    "\n",
    "for i in range(a,b):\n",
    "    print(i)\n",
    "\n",
    "d= []\n",
    "\n",
    "for i in range(a,b):\n",
    "    \n",
    "    if i > 0:\n",
    "        d.append(i)\n",
    "        \n",
    "print('The list of positive numbers is mentioned below\\n')\n",
    "\n",
    "print(d)"
   ]
  },
  {
   "cell_type": "code",
   "execution_count": null,
   "metadata": {},
   "outputs": [],
   "source": []
  }
 ],
 "metadata": {
  "kernelspec": {
   "display_name": "Python 3",
   "language": "python",
   "name": "python3"
  },
  "language_info": {
   "codemirror_mode": {
    "name": "ipython",
    "version": 3
   },
   "file_extension": ".py",
   "mimetype": "text/x-python",
   "name": "python",
   "nbconvert_exporter": "python",
   "pygments_lexer": "ipython3",
   "version": "3.8.5"
  }
 },
 "nbformat": 4,
 "nbformat_minor": 4
}
