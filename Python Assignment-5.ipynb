{
 "cells": [
  {
   "cell_type": "code",
   "execution_count": 1,
   "metadata": {},
   "outputs": [
    {
     "name": "stdout",
     "output_type": "stream",
     "text": [
      "Enter the lower bound of range-5\n",
      "Enter the upper bound of range5\n",
      "The entered range is as mentioned below\n",
      "\n",
      "-5\n",
      "-4\n",
      "-3\n",
      "-2\n",
      "-1\n",
      "0\n",
      "1\n",
      "2\n",
      "3\n",
      "4\n",
      "The list of negative numbers from the range is mentioned below\n",
      "\n",
      "[-5, -4, -3, -2, -1]\n"
     ]
    }
   ],
   "source": [
    "# 1. Python program to print all negative numbers in a range\n",
    "\n",
    "a= int(input('Enter the lower bound of range'))\n",
    "b= int(input('Enter the upper bound of range'))\n",
    "\n",
    "print('The entered range is as mentioned below\\n')\n",
    "\n",
    "for i in range(a,b):\n",
    "    print(i)\n",
    "    \n",
    "c= []\n",
    "    \n",
    "for i in range(a,b):\n",
    "    if i <0:\n",
    "        c.append(i)\n",
    "        \n",
    "print('The list of negative numbers from the range is mentioned below\\n')\n",
    "\n",
    "print(c)\n",
    "    "
   ]
  },
  {
   "cell_type": "code",
   "execution_count": 3,
   "metadata": {},
   "outputs": [
    {
     "name": "stdout",
     "output_type": "stream",
     "text": [
      "Enter the upper bound of range10\n",
      "The list is as mentioned below\n",
      "\n",
      "[0, 1, 2, 3, 4, 5, 6, 7, 8, 9]\n",
      "The list after removing last five elements is as mentioned below\n",
      "\n",
      "[0, 1, 2, 3, 4]\n"
     ]
    }
   ],
   "source": [
    "# 2. Remove multiple elements from a list in Python\n",
    "\n",
    "a= int(input(\"Enter the upper bound of range\"))\n",
    "\n",
    "b = list(range(a))\n",
    "\n",
    "print('The list is as mentioned below\\n')\n",
    "\n",
    "print(b)\n",
    "\n",
    "# to remove last five elements\n",
    "\n",
    "i=1\n",
    "\n",
    "while i<6:\n",
    "    b.pop()\n",
    "    i= i+1\n",
    "print('The list after removing last five elements is as mentioned below\\n')\n",
    "\n",
    "print(b)"
   ]
  },
  {
   "cell_type": "code",
   "execution_count": 4,
   "metadata": {},
   "outputs": [
    {
     "name": "stdout",
     "output_type": "stream",
     "text": [
      "The final list after removing empty list is as mentioned below\n",
      "\n",
      "[1, 2, 'raunak', (2+3j), [10, 20, 30], ['mane']]\n"
     ]
    }
   ],
   "source": [
    "# 3. write a Python program to Remove empty List from List\n",
    "\n",
    "# I am creating a nested list\n",
    "\n",
    "a = [1,2,'raunak', 2+3j, [10,20,30], [], ['mane']]\n",
    "\n",
    "for i in a:\n",
    "    \n",
    "    if type(i) == list:\n",
    "        if len(i)==0:\n",
    "            a.remove(i)\n",
    "            \n",
    "print('The final list after removing empty list is as mentioned below\\n')\n",
    "\n",
    "print(a)\n",
    "        \n",
    "            "
   ]
  },
  {
   "cell_type": "code",
   "execution_count": 6,
   "metadata": {},
   "outputs": [
    {
     "name": "stdout",
     "output_type": "stream",
     "text": [
      "[0, 1, 2, 3, 4, 5, 6, 7, 8, 9, 10]\n",
      "The copied list b is as mentined below\n",
      "\n",
      "[0, 1, 2, 3, 4, 5, 6, 7, 8, 9, 10]\n"
     ]
    }
   ],
   "source": [
    "# 4. write a Python program to Cloning or Copying a list\n",
    "\n",
    "# I am doing simple item assignment operation i.e swallow copy for copying a list in the same location in memory\n",
    "\n",
    "a = list(range(11))\n",
    "\n",
    "print(a)\n",
    "\n",
    "b= a\n",
    "\n",
    "print('The copied list b is as mentined below\\n')\n",
    "\n",
    "print(b)"
   ]
  },
  {
   "cell_type": "code",
   "execution_count": 7,
   "metadata": {},
   "outputs": [
    {
     "name": "stdout",
     "output_type": "stream",
     "text": [
      "The number of occurances of 2 is  3\n"
     ]
    }
   ],
   "source": [
    "# 5. write a Python program to Count occurrences of an element in a list\n",
    "\n",
    "# I am using below mentioned list \n",
    "\n",
    "a = [1,2,1,2,3,'raunak', 'mane', 1,2]\n",
    "\n",
    "# To count the number of occurances of 2\n",
    "\n",
    "count=0\n",
    "\n",
    "for i in a:\n",
    "    if type(i) ==int:\n",
    "        if i==2:\n",
    "            count = count + 1\n",
    "            \n",
    "print('The number of occurances of 2 is ', count)\n",
    "            \n",
    "            "
   ]
  },
  {
   "cell_type": "code",
   "execution_count": 9,
   "metadata": {},
   "outputs": [
    {
     "name": "stdout",
     "output_type": "stream",
     "text": [
      "The final list after removing empty tuples is as mentioned below\n",
      "\n",
      "[1, 2, 'abc', ['xyz', 100], (10, 100), 200]\n"
     ]
    }
   ],
   "source": [
    "# 6. write a Python program to Remove empty tuples from a list\n",
    "\n",
    "# I am using below mentioned list\n",
    "\n",
    "a = [1,2, 'abc', ['xyz', 100], (10,100), (), 200]\n",
    "\n",
    "for i in a:\n",
    "    if type(i)==tuple:\n",
    "        if len(i)==0:\n",
    "            a.remove(i)\n",
    "print('The final list after removing empty tuples is as mentioned below\\n')\n",
    "\n",
    "print(a)"
   ]
  },
  {
   "cell_type": "code",
   "execution_count": 11,
   "metadata": {},
   "outputs": [
    {
     "name": "stdout",
     "output_type": "stream",
     "text": [
      "The list of elements having duplicates is as mentioned below\n",
      "\n",
      "[1, 2, 3]\n"
     ]
    }
   ],
   "source": [
    "# 7. write a Python program to Program to print duplicates from a list of integers\n",
    "\n",
    "# I am using below mentioned list\n",
    "\n",
    "a = [1,2,3,1,2,100,50,2,3,4,15,17,18]\n",
    "\n",
    "b= []\n",
    "\n",
    "for i in a:\n",
    "    if a.count(i)>1:\n",
    "        if i in b:\n",
    "            continue\n",
    "            \n",
    "        else:\n",
    "            b.append(i)\n",
    "        \n",
    "        \n",
    "print('The list of elements having duplicates is as mentioned below\\n')\n",
    "\n",
    "print(b)"
   ]
  },
  {
   "cell_type": "code",
   "execution_count": 12,
   "metadata": {},
   "outputs": [
    {
     "name": "stdout",
     "output_type": "stream",
     "text": [
      "Enter the lower bound of range1\n",
      "Enter the upper bound of range5\n",
      "The cumulative sum is  10\n"
     ]
    }
   ],
   "source": [
    "# 8. write a Python program to find Cumulative sum of a list\n",
    "\n",
    "a= int(input('Enter the lower bound of range'))\n",
    "b= int(input('Enter the upper bound of range'))\n",
    "\n",
    "c = list(range(a,b))\n",
    "\n",
    "d=0\n",
    "\n",
    "for i in c:\n",
    "    d = d+i\n",
    "    \n",
    "print('The cumulative sum is ', d)"
   ]
  },
  {
   "cell_type": "code",
   "execution_count": 15,
   "metadata": {},
   "outputs": [
    {
     "name": "stdout",
     "output_type": "stream",
     "text": [
      "Enter the lower bound of range10\n",
      "Enter the upper bound of range25\n",
      "The cumulative sum of length of list  120\n"
     ]
    }
   ],
   "source": [
    "# 9. write a Python program to Sum of number digits in List\n",
    "\n",
    "# To find sum cumulative sum of length of list\n",
    "\n",
    "a= int(input('Enter the lower bound of range'))\n",
    "b= int(input('Enter the upper bound of range'))\n",
    "\n",
    "c = list(range(a,b))\n",
    "\n",
    "d=0\n",
    "\n",
    "for i in range(1, len(c)+1):\n",
    "    d = d+i\n",
    "    \n",
    "print('The cumulative sum of length of list ', d)"
   ]
  },
  {
   "cell_type": "code",
   "execution_count": 29,
   "metadata": {},
   "outputs": [],
   "source": [
    "# 10. write a Python program to Break a list into chunks of size N \n",
    "\n"
   ]
  },
  {
   "cell_type": "code",
   "execution_count": 26,
   "metadata": {},
   "outputs": [
    {
     "name": "stdout",
     "output_type": "stream",
     "text": [
      "The zipped list is as mentioned below\n",
      "\n",
      "[(10, 'x'), (100, 'z'), (45, 'y'), (2, 'a'), (41, 'r'), (25, 'p'), (99, 'm'), (74, 'n')]\n",
      "The sorted list is mentione below\n",
      "\n",
      "[(2, 'a'), (10, 'x'), (25, 'p'), (41, 'r'), (45, 'y'), (74, 'n'), (99, 'm'), (100, 'z')]\n"
     ]
    }
   ],
   "source": [
    "# 11. write a Python program to Sort the values of first list using second list\n",
    "\n",
    "a = [10,100,45,2,41,25,99,74]\n",
    "\n",
    "b= ['x', 'z', 'y', 'a', 'r','p', 'm', 'n' ]\n",
    "\n",
    "c = list(zip(a,b))\n",
    "\n",
    "print('The zipped list is as mentioned below\\n')\n",
    "\n",
    "print(c)\n",
    "\n",
    "c.sort()\n",
    "\n",
    "print('The sorted list is mentione below\\n')\n",
    "\n",
    "print(c)\n",
    "\n"
   ]
  },
  {
   "cell_type": "code",
   "execution_count": null,
   "metadata": {},
   "outputs": [],
   "source": []
  }
 ],
 "metadata": {
  "kernelspec": {
   "display_name": "Python 3",
   "language": "python",
   "name": "python3"
  },
  "language_info": {
   "codemirror_mode": {
    "name": "ipython",
    "version": 3
   },
   "file_extension": ".py",
   "mimetype": "text/x-python",
   "name": "python",
   "nbconvert_exporter": "python",
   "pygments_lexer": "ipython3",
   "version": "3.8.5"
  }
 },
 "nbformat": 4,
 "nbformat_minor": 4
}
